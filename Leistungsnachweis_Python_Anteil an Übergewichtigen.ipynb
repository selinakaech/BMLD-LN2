{
 "cells": [
  {
   "cell_type": "markdown",
   "metadata": {},
   "source": [
    "# **1.1 Anteil der Erwachsenen, die übergewichtig oder fettleibig sind**\n",
    "\n",
    "Gruppe: Soraya Gfrerer, Adriana Heeb, Selina Käch\n",
    "\n",
    "## **1.2 Fragestellung**\n",
    "\n",
    "- In welchen 5 Länder ist der Anteil an Übergewichtigen am höchsten und bei welchen 5 Länder am tiefsten zwischen den Jahren 1975 bis 2016?  \n",
    "- Was sind die Gründe dafür?\n",
    "\n",
    "\n",
    "## **1.3 Datenquellen**\n",
    "\n",
    "- https://ourworldindata.org/grapher/share-of-adults-who-are-overweight?tab=chart\n",
    "- 2. Quelle für Recherche einfügen\n",
    "\n"
   ]
  },
  {
   "cell_type": "markdown",
   "metadata": {},
   "source": [
    "## **1.4 Daten beschaffen und laden**"
   ]
  },
  {
   "cell_type": "code",
   "execution_count": 2,
   "metadata": {},
   "outputs": [],
   "source": [
    "import pandas as pd\n",
    "from matplotlib import pyplot as plt"
   ]
  },
  {
   "cell_type": "code",
   "execution_count": 3,
   "metadata": {},
   "outputs": [
    {
     "data": {
      "text/html": [
       "<div>\n",
       "<style scoped>\n",
       "    .dataframe tbody tr th:only-of-type {\n",
       "        vertical-align: middle;\n",
       "    }\n",
       "\n",
       "    .dataframe tbody tr th {\n",
       "        vertical-align: top;\n",
       "    }\n",
       "\n",
       "    .dataframe thead th {\n",
       "        text-align: right;\n",
       "    }\n",
       "</style>\n",
       "<table border=\"1\" class=\"dataframe\">\n",
       "  <thead>\n",
       "    <tr style=\"text-align: right;\">\n",
       "      <th></th>\n",
       "      <th>Gebiet</th>\n",
       "      <th>Code</th>\n",
       "      <th>Jahr</th>\n",
       "      <th>Anteil an Übergewichtigen</th>\n",
       "    </tr>\n",
       "  </thead>\n",
       "  <tbody>\n",
       "    <tr>\n",
       "      <th>0</th>\n",
       "      <td>Afghanistan</td>\n",
       "      <td>AFG</td>\n",
       "      <td>1975</td>\n",
       "      <td>6.1</td>\n",
       "    </tr>\n",
       "    <tr>\n",
       "      <th>1</th>\n",
       "      <td>Afghanistan</td>\n",
       "      <td>AFG</td>\n",
       "      <td>1976</td>\n",
       "      <td>6.3</td>\n",
       "    </tr>\n",
       "    <tr>\n",
       "      <th>2</th>\n",
       "      <td>Afghanistan</td>\n",
       "      <td>AFG</td>\n",
       "      <td>1977</td>\n",
       "      <td>6.5</td>\n",
       "    </tr>\n",
       "    <tr>\n",
       "      <th>3</th>\n",
       "      <td>Afghanistan</td>\n",
       "      <td>AFG</td>\n",
       "      <td>1978</td>\n",
       "      <td>6.8</td>\n",
       "    </tr>\n",
       "    <tr>\n",
       "      <th>4</th>\n",
       "      <td>Afghanistan</td>\n",
       "      <td>AFG</td>\n",
       "      <td>1979</td>\n",
       "      <td>7.0</td>\n",
       "    </tr>\n",
       "  </tbody>\n",
       "</table>\n",
       "</div>"
      ],
      "text/plain": [
       "        Gebiet Code  Jahr  Anteil an Übergewichtigen\n",
       "0  Afghanistan  AFG  1975                        6.1\n",
       "1  Afghanistan  AFG  1976                        6.3\n",
       "2  Afghanistan  AFG  1977                        6.5\n",
       "3  Afghanistan  AFG  1978                        6.8\n",
       "4  Afghanistan  AFG  1979                        7.0"
      ]
     },
     "execution_count": 3,
     "metadata": {},
     "output_type": "execute_result"
    }
   ],
   "source": [
    "df = pd.read_csv('share-of-adults-who-are-overweight.csv', skiprows=1,\n",
    "                 names=['Gebiet','Code','Jahr','Anteil an Übergewichtigen']) \n",
    "df.head()  "
   ]
  },
  {
   "cell_type": "markdown",
   "metadata": {},
   "source": [
    "# **2. Daten vorbereiten**"
   ]
  },
  {
   "cell_type": "code",
   "execution_count": 6,
   "metadata": {},
   "outputs": [
    {
     "data": {
      "text/html": [
       "<div>\n",
       "<style scoped>\n",
       "    .dataframe tbody tr th:only-of-type {\n",
       "        vertical-align: middle;\n",
       "    }\n",
       "\n",
       "    .dataframe tbody tr th {\n",
       "        vertical-align: top;\n",
       "    }\n",
       "\n",
       "    .dataframe thead th {\n",
       "        text-align: right;\n",
       "    }\n",
       "</style>\n",
       "<table border=\"1\" class=\"dataframe\">\n",
       "  <thead>\n",
       "    <tr style=\"text-align: right;\">\n",
       "      <th>Jahr</th>\n",
       "      <th>1975</th>\n",
       "      <th>1976</th>\n",
       "      <th>1977</th>\n",
       "      <th>1978</th>\n",
       "      <th>1979</th>\n",
       "      <th>1980</th>\n",
       "      <th>1981</th>\n",
       "      <th>1982</th>\n",
       "      <th>1983</th>\n",
       "      <th>1984</th>\n",
       "      <th>...</th>\n",
       "      <th>2007</th>\n",
       "      <th>2008</th>\n",
       "      <th>2009</th>\n",
       "      <th>2010</th>\n",
       "      <th>2011</th>\n",
       "      <th>2012</th>\n",
       "      <th>2013</th>\n",
       "      <th>2014</th>\n",
       "      <th>2015</th>\n",
       "      <th>2016</th>\n",
       "    </tr>\n",
       "    <tr>\n",
       "      <th>Gebiet</th>\n",
       "      <th></th>\n",
       "      <th></th>\n",
       "      <th></th>\n",
       "      <th></th>\n",
       "      <th></th>\n",
       "      <th></th>\n",
       "      <th></th>\n",
       "      <th></th>\n",
       "      <th></th>\n",
       "      <th></th>\n",
       "      <th></th>\n",
       "      <th></th>\n",
       "      <th></th>\n",
       "      <th></th>\n",
       "      <th></th>\n",
       "      <th></th>\n",
       "      <th></th>\n",
       "      <th></th>\n",
       "      <th></th>\n",
       "      <th></th>\n",
       "      <th></th>\n",
       "    </tr>\n",
       "  </thead>\n",
       "  <tbody>\n",
       "    <tr>\n",
       "      <th>Afghanistan</th>\n",
       "      <td>6.1</td>\n",
       "      <td>6.3</td>\n",
       "      <td>6.5</td>\n",
       "      <td>6.8</td>\n",
       "      <td>7.0</td>\n",
       "      <td>7.3</td>\n",
       "      <td>7.6</td>\n",
       "      <td>7.9</td>\n",
       "      <td>8.2</td>\n",
       "      <td>8.4</td>\n",
       "      <td>...</td>\n",
       "      <td>17.7</td>\n",
       "      <td>18.2</td>\n",
       "      <td>18.8</td>\n",
       "      <td>19.3</td>\n",
       "      <td>19.9</td>\n",
       "      <td>20.5</td>\n",
       "      <td>21.1</td>\n",
       "      <td>21.7</td>\n",
       "      <td>22.3</td>\n",
       "      <td>23.0</td>\n",
       "    </tr>\n",
       "    <tr>\n",
       "      <th>Africa (WHO)</th>\n",
       "      <td>11.6</td>\n",
       "      <td>11.9</td>\n",
       "      <td>12.2</td>\n",
       "      <td>12.5</td>\n",
       "      <td>12.9</td>\n",
       "      <td>13.2</td>\n",
       "      <td>13.6</td>\n",
       "      <td>14.0</td>\n",
       "      <td>14.4</td>\n",
       "      <td>14.8</td>\n",
       "      <td>...</td>\n",
       "      <td>26.1</td>\n",
       "      <td>26.7</td>\n",
       "      <td>27.2</td>\n",
       "      <td>27.8</td>\n",
       "      <td>28.3</td>\n",
       "      <td>28.9</td>\n",
       "      <td>29.4</td>\n",
       "      <td>30.0</td>\n",
       "      <td>30.5</td>\n",
       "      <td>31.1</td>\n",
       "    </tr>\n",
       "    <tr>\n",
       "      <th>Albania</th>\n",
       "      <td>33.3</td>\n",
       "      <td>33.8</td>\n",
       "      <td>34.2</td>\n",
       "      <td>34.7</td>\n",
       "      <td>35.1</td>\n",
       "      <td>35.6</td>\n",
       "      <td>36.1</td>\n",
       "      <td>36.5</td>\n",
       "      <td>37.0</td>\n",
       "      <td>37.5</td>\n",
       "      <td>...</td>\n",
       "      <td>51.0</td>\n",
       "      <td>51.8</td>\n",
       "      <td>52.5</td>\n",
       "      <td>53.3</td>\n",
       "      <td>54.0</td>\n",
       "      <td>54.8</td>\n",
       "      <td>55.5</td>\n",
       "      <td>56.3</td>\n",
       "      <td>57.0</td>\n",
       "      <td>57.7</td>\n",
       "    </tr>\n",
       "    <tr>\n",
       "      <th>Algeria</th>\n",
       "      <td>30.0</td>\n",
       "      <td>30.6</td>\n",
       "      <td>31.2</td>\n",
       "      <td>31.9</td>\n",
       "      <td>32.6</td>\n",
       "      <td>33.3</td>\n",
       "      <td>34.0</td>\n",
       "      <td>34.8</td>\n",
       "      <td>35.6</td>\n",
       "      <td>36.4</td>\n",
       "      <td>...</td>\n",
       "      <td>55.0</td>\n",
       "      <td>55.8</td>\n",
       "      <td>56.6</td>\n",
       "      <td>57.4</td>\n",
       "      <td>58.2</td>\n",
       "      <td>59.0</td>\n",
       "      <td>59.8</td>\n",
       "      <td>60.5</td>\n",
       "      <td>61.3</td>\n",
       "      <td>62.0</td>\n",
       "    </tr>\n",
       "    <tr>\n",
       "      <th>Americas (WHO)</th>\n",
       "      <td>36.6</td>\n",
       "      <td>37.2</td>\n",
       "      <td>37.8</td>\n",
       "      <td>38.5</td>\n",
       "      <td>39.1</td>\n",
       "      <td>39.7</td>\n",
       "      <td>40.4</td>\n",
       "      <td>41.0</td>\n",
       "      <td>41.7</td>\n",
       "      <td>42.3</td>\n",
       "      <td>...</td>\n",
       "      <td>57.6</td>\n",
       "      <td>58.1</td>\n",
       "      <td>58.7</td>\n",
       "      <td>59.2</td>\n",
       "      <td>59.8</td>\n",
       "      <td>60.3</td>\n",
       "      <td>60.9</td>\n",
       "      <td>61.4</td>\n",
       "      <td>62.0</td>\n",
       "      <td>62.5</td>\n",
       "    </tr>\n",
       "  </tbody>\n",
       "</table>\n",
       "<p>5 rows × 42 columns</p>\n",
       "</div>"
      ],
      "text/plain": [
       "Jahr            1975  1976  1977  1978  1979  1980  1981  1982  1983  1984  \\\n",
       "Gebiet                                                                       \n",
       "Afghanistan      6.1   6.3   6.5   6.8   7.0   7.3   7.6   7.9   8.2   8.4   \n",
       "Africa (WHO)    11.6  11.9  12.2  12.5  12.9  13.2  13.6  14.0  14.4  14.8   \n",
       "Albania         33.3  33.8  34.2  34.7  35.1  35.6  36.1  36.5  37.0  37.5   \n",
       "Algeria         30.0  30.6  31.2  31.9  32.6  33.3  34.0  34.8  35.6  36.4   \n",
       "Americas (WHO)  36.6  37.2  37.8  38.5  39.1  39.7  40.4  41.0  41.7  42.3   \n",
       "\n",
       "Jahr            ...  2007  2008  2009  2010  2011  2012  2013  2014  2015  \\\n",
       "Gebiet          ...                                                         \n",
       "Afghanistan     ...  17.7  18.2  18.8  19.3  19.9  20.5  21.1  21.7  22.3   \n",
       "Africa (WHO)    ...  26.1  26.7  27.2  27.8  28.3  28.9  29.4  30.0  30.5   \n",
       "Albania         ...  51.0  51.8  52.5  53.3  54.0  54.8  55.5  56.3  57.0   \n",
       "Algeria         ...  55.0  55.8  56.6  57.4  58.2  59.0  59.8  60.5  61.3   \n",
       "Americas (WHO)  ...  57.6  58.1  58.7  59.2  59.8  60.3  60.9  61.4  62.0   \n",
       "\n",
       "Jahr            2016  \n",
       "Gebiet                \n",
       "Afghanistan     23.0  \n",
       "Africa (WHO)    31.1  \n",
       "Albania         57.7  \n",
       "Algeria         62.0  \n",
       "Americas (WHO)  62.5  \n",
       "\n",
       "[5 rows x 42 columns]"
      ]
     },
     "execution_count": 6,
     "metadata": {},
     "output_type": "execute_result"
    }
   ],
   "source": [
    "df_pivot = df.pivot(index='Gebiet', columns='Jahr', values='Anteil an Übergewichtigen')\n",
    "df_pivot.head()"
   ]
  },
  {
   "cell_type": "markdown",
   "metadata": {},
   "source": [
    "# **3. Rohdaten Analyse (im Longformat)**\n",
    "\n",
    "über die einzelnen Spalten kann folgendes ausgesagt werden:\n",
    "\n",
    "Die Spalte Gebiete enthält 197 verschiedene Gebiete\n",
    "\n",
    "Die Spalte Codes enthält 191 verschiedene Codes\n",
    "\n",
    "Es sind Daten zwischen den Jahren 1975 und 2016 vorhanden.\n",
    "\n",
    "Der Anteil an Übergewichtigen streut zwischen XX und XX Prozent"
   ]
  },
  {
   "cell_type": "code",
   "execution_count": 7,
   "metadata": {},
   "outputs": [
    {
     "data": {
      "text/plain": [
       "Gebiet                        object\n",
       "Code                          object\n",
       "Jahr                           int64\n",
       "Anteil an Übergewichtigen    float64\n",
       "dtype: object"
      ]
     },
     "execution_count": 7,
     "metadata": {},
     "output_type": "execute_result"
    }
   ],
   "source": [
    "df.dtypes"
   ]
  },
  {
   "cell_type": "markdown",
   "metadata": {},
   "source": [
    "## **3.1 Analyse Gebiete**"
   ]
  },
  {
   "cell_type": "code",
   "execution_count": 8,
   "metadata": {},
   "outputs": [
    {
     "name": "stdout",
     "output_type": "stream",
     "text": [
      "Anzahl verschiedener Gebiete:  197\n"
     ]
    }
   ],
   "source": [
    "print('Anzahl verschiedener Gebiete: ', len(df['Gebiet'].unique()))"
   ]
  },
  {
   "cell_type": "code",
   "execution_count": 9,
   "metadata": {},
   "outputs": [
    {
     "data": {
      "text/plain": [
       "Gebiet\n",
       "Afghanistan    42\n",
       "Nepal          42\n",
       "New Zealand    42\n",
       "Nicaragua      42\n",
       "Niger          42\n",
       "               ..\n",
       "Gambia         42\n",
       "Georgia        42\n",
       "Germany        42\n",
       "Ghana          42\n",
       "Zimbabwe       42\n",
       "Name: count, Length: 197, dtype: int64"
      ]
     },
     "execution_count": 9,
     "metadata": {},
     "output_type": "execute_result"
    }
   ],
   "source": [
    "df['Gebiet'].value_counts()"
   ]
  },
  {
   "cell_type": "code",
   "execution_count": 10,
   "metadata": {},
   "outputs": [
    {
     "data": {
      "text/plain": [
       "<Axes: title={'center': 'Anzahl Datenpunkte pro Gebiet'}, xlabel='Gebiet', ylabel='Anzahl Datenpunkte'>"
      ]
     },
     "execution_count": 10,
     "metadata": {},
     "output_type": "execute_result"
    },
    {
     "data": {
      "image/png": "[encoded data removed]",
      "text/plain": [
       "<Figure size 640x480 with 1 Axes>"
      ]
     },
     "metadata": {},
     "output_type": "display_data"
    }
   ],
   "source": [
    "df['Gebiet'].value_counts().plot(kind='bar', \n",
    "                                 xticks=[],     # disable labels on x-axis\n",
    "                                 ylabel='Anzahl Datenpunkte', title='Anzahl Datenpunkte pro Gebiet')"
   ]
  },
  {
   "cell_type": "markdown",
   "metadata": {},
   "source": [
    "## **3.2 Analyse Codes**\n",
    "\n"
   ]
  },
  {
   "cell_type": "code",
   "execution_count": 11,
   "metadata": {},
   "outputs": [
    {
     "name": "stdout",
     "output_type": "stream",
     "text": [
      "Anzahl verschiedener Codes:  191\n"
     ]
    }
   ],
   "source": [
    "print('Anzahl verschiedener Codes: ', len(df['Code'].unique()))"
   ]
  },
  {
   "cell_type": "code",
   "execution_count": 12,
   "metadata": {},
   "outputs": [
    {
     "data": {
      "text/plain": [
       "Code\n",
       "AFG    42\n",
       "OMN    42\n",
       "NLD    42\n",
       "NZL    42\n",
       "NIC    42\n",
       "       ..\n",
       "GEO    42\n",
       "DEU    42\n",
       "GHA    42\n",
       "GRC    42\n",
       "ZWE    42\n",
       "Name: count, Length: 190, dtype: int64"
      ]
     },
     "execution_count": 12,
     "metadata": {},
     "output_type": "execute_result"
    }
   ],
   "source": [
    "df['Code'].value_counts()"
   ]
  },
  {
   "cell_type": "code",
   "execution_count": 13,
   "metadata": {},
   "outputs": [
    {
     "data": {
      "image/png": "[encoded data removed]",
      "text/plain": [
       "<Figure size 640x480 with 1 Axes>"
      ]
     },
     "metadata": {},
     "output_type": "display_data"
    }
   ],
   "source": [
    "df['Code'].value_counts().plot(kind='bar',xticks=[], ylabel='Anzahl Datenpunkte', title='Anzahl Datenpunkte pro Code');"
   ]
  },
  {
   "cell_type": "markdown",
   "metadata": {},
   "source": [
    "## **3.3 Analyse Jahr**"
   ]
  },
  {
   "cell_type": "code",
   "execution_count": 14,
   "metadata": {},
   "outputs": [
    {
     "name": "stdout",
     "output_type": "stream",
     "text": [
      "Anzahl verschiedener Jahre:  42\n"
     ]
    }
   ],
   "source": [
    "print('Anzahl verschiedener Jahre: ', len(df['Jahr'].unique()))"
   ]
  },
  {
   "cell_type": "code",
   "execution_count": 15,
   "metadata": {},
   "outputs": [
    {
     "data": {
      "text/plain": [
       "Jahr\n",
       "1975    197\n",
       "1976    197\n",
       "1977    197\n",
       "1978    197\n",
       "1979    197\n",
       "1980    197\n",
       "1981    197\n",
       "1982    197\n",
       "1983    197\n",
       "1984    197\n",
       "1985    197\n",
       "1986    197\n",
       "1987    197\n",
       "1988    197\n",
       "1989    197\n",
       "1990    197\n",
       "1991    197\n",
       "1992    197\n",
       "1993    197\n",
       "1994    197\n",
       "1995    197\n",
       "1996    197\n",
       "1997    197\n",
       "1998    197\n",
       "1999    197\n",
       "2000    197\n",
       "2001    197\n",
       "2002    197\n",
       "2003    197\n",
       "2004    197\n",
       "2005    197\n",
       "2006    197\n",
       "2007    197\n",
       "2008    197\n",
       "2009    197\n",
       "2010    197\n",
       "2011    197\n",
       "2012    197\n",
       "2013    197\n",
       "2014    197\n",
       "2015    197\n",
       "2016    197\n",
       "Name: count, dtype: int64"
      ]
     },
     "execution_count": 15,
     "metadata": {},
     "output_type": "execute_result"
    }
   ],
   "source": [
    "df['Jahr'].value_counts().sort_index()"
   ]
  },
  {
   "cell_type": "code",
   "execution_count": 17,
   "metadata": {},
   "outputs": [
    {
     "data": {
      "text/plain": [
       "<matplotlib.legend.Legend at 0x21753c7ff20>"
      ]
     },
     "execution_count": 17,
     "metadata": {},
     "output_type": "execute_result"
    },
    {
     "data": {
      "image/png": "[encoded data removed]",
      "text/plain": [
       "<Figure size 640x480 with 1 Axes>"
      ]
     },
     "metadata": {},
     "output_type": "display_data"
    }
   ],
   "source": [
    "g = df['Jahr'].value_counts().sort_index().plot(ylabel='Anzahl Datenpunkte', title='Anzahl Datenpunkte pro Jahr');\n",
    "g.legend()"
   ]
  },
  {
   "cell_type": "markdown",
   "metadata": {},
   "source": [
    "## **3.4 Analyse Lebenserwartung**"
   ]
  },
  {
   "cell_type": "code",
   "execution_count": 4,
   "metadata": {},
   "outputs": [
    {
     "data": {
      "text/html": [
       "<div>\n",
       "<style scoped>\n",
       "    .dataframe tbody tr th:only-of-type {\n",
       "        vertical-align: middle;\n",
       "    }\n",
       "\n",
       "    .dataframe tbody tr th {\n",
       "        vertical-align: top;\n",
       "    }\n",
       "\n",
       "    .dataframe thead th {\n",
       "        text-align: right;\n",
       "    }\n",
       "</style>\n",
       "<table border=\"1\" class=\"dataframe\">\n",
       "  <thead>\n",
       "    <tr style=\"text-align: right;\">\n",
       "      <th></th>\n",
       "      <th>Jahr</th>\n",
       "      <th>Anteil an Übergewichtigen</th>\n",
       "    </tr>\n",
       "  </thead>\n",
       "  <tbody>\n",
       "    <tr>\n",
       "      <th>count</th>\n",
       "      <td>8274.000000</td>\n",
       "      <td>8274.000000</td>\n",
       "    </tr>\n",
       "    <tr>\n",
       "      <th>mean</th>\n",
       "      <td>1995.500000</td>\n",
       "      <td>37.510769</td>\n",
       "    </tr>\n",
       "    <tr>\n",
       "      <th>std</th>\n",
       "      <td>12.121651</td>\n",
       "      <td>17.912172</td>\n",
       "    </tr>\n",
       "    <tr>\n",
       "      <th>min</th>\n",
       "      <td>1975.000000</td>\n",
       "      <td>4.600000</td>\n",
       "    </tr>\n",
       "    <tr>\n",
       "      <th>25%</th>\n",
       "      <td>1985.000000</td>\n",
       "      <td>21.300000</td>\n",
       "    </tr>\n",
       "    <tr>\n",
       "      <th>50%</th>\n",
       "      <td>1995.500000</td>\n",
       "      <td>39.300000</td>\n",
       "    </tr>\n",
       "    <tr>\n",
       "      <th>75%</th>\n",
       "      <td>2006.000000</td>\n",
       "      <td>51.500000</td>\n",
       "    </tr>\n",
       "    <tr>\n",
       "      <th>max</th>\n",
       "      <td>2016.000000</td>\n",
       "      <td>88.500000</td>\n",
       "    </tr>\n",
       "  </tbody>\n",
       "</table>\n",
       "</div>"
      ],
      "text/plain": [
       "              Jahr  Anteil an Übergewichtigen\n",
       "count  8274.000000                8274.000000\n",
       "mean   1995.500000                  37.510769\n",
       "std      12.121651                  17.912172\n",
       "min    1975.000000                   4.600000\n",
       "25%    1985.000000                  21.300000\n",
       "50%    1995.500000                  39.300000\n",
       "75%    2006.000000                  51.500000\n",
       "max    2016.000000                  88.500000"
      ]
     },
     "execution_count": 4,
     "metadata": {},
     "output_type": "execute_result"
    }
   ],
   "source": [
    "df.describe()"
   ]
  },
  {
   "cell_type": "code",
   "execution_count": 6,
   "metadata": {},
   "outputs": [
    {
     "data": {
      "text/plain": [
       "<matplotlib.legend.Legend at 0x12d0254c0>"
      ]
     },
     "execution_count": 6,
     "metadata": {},
     "output_type": "execute_result"
    },
    {
     "data": {
      "image/png": "[encoded data removed]",
      "text/plain": [
       "<Figure size 640x480 with 1 Axes>"
      ]
     },
     "metadata": {},
     "output_type": "display_data"
    }
   ],
   "source": [
    "g = df['Anteil an Übergewichtigen'].plot(kind='hist', bins=20, title='Histogramm der Übergewichtigen in den verschiedenen Gebieten', \n",
    "                           xlabel='Anteil an Übergewichtigen', ylabel='Anzahl Datenpunkte')\n",
    "mean = df['Anteil an Übergewichtigen'].mean()\n",
    "g.axvline(x=df['Anteil an Übergewichtigen'].mean(), color='red',label=f'Mittelwert = {mean:.2f}')  # rote Linie bei Mittelwert\n",
    "\n",
    "median = df['Anteil an Übergewichtigen'].median()\n",
    "g.axvline(x=df['Anteil an Übergewichtigen'].median(), color='orange',label=  f'Median = {median:.2f}')  # orange Linie bei Median\n",
    "\n",
    "g.legend()"
   ]
  },
  {
   "cell_type": "code",
   "execution_count": null,
   "metadata": {},
   "outputs": [],
   "source": []
  }
 ],
 "metadata": {
  "kernelspec": {
   "display_name": "base",
   "language": "python",
   "name": "python3"
  },
  "language_info": {
   "codemirror_mode": {
    "name": "ipython",
    "version": 3
   },
   "file_extension": ".py",
   "mimetype": "text/x-python",
   "name": "python",
   "nbconvert_exporter": "python",
   "pygments_lexer": "ipython3",
   "version": "3.12.4"
  }
 },
 "nbformat": 4,
 "nbformat_minor": 2
}
